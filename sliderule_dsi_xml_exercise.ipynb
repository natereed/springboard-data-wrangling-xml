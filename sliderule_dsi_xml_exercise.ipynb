{
 "cells": [
  {
   "cell_type": "markdown",
   "metadata": {},
   "source": [
    "# XML example and exercise\n",
    "****\n",
    "+ study examples of accessing nodes in XML tree structure  \n",
    "+ work on exercise to be completed and submitted\n",
    "****\n",
    "+ reference: https://docs.python.org/2.7/library/xml.etree.elementtree.html\n",
    "+ data source: http://www.dbis.informatik.uni-goettingen.de/Mondial\n",
    "****"
   ]
  },
  {
   "cell_type": "code",
   "execution_count": 2,
   "metadata": {
    "collapsed": true
   },
   "outputs": [],
   "source": [
    "from xml.etree import ElementTree as ET"
   ]
  },
  {
   "cell_type": "markdown",
   "metadata": {},
   "source": [
    "## XML example\n",
    "\n",
    "+ for details about tree traversal and iterators, see https://docs.python.org/2.7/library/xml.etree.elementtree.html"
   ]
  },
  {
   "cell_type": "code",
   "execution_count": 3,
   "metadata": {
    "collapsed": true
   },
   "outputs": [],
   "source": [
    "document_tree = ET.parse( './data/mondial_database_less.xml' )"
   ]
  },
  {
   "cell_type": "code",
   "execution_count": 4,
   "metadata": {
    "collapsed": false
   },
   "outputs": [
    {
     "name": "stdout",
     "output_type": "stream",
     "text": [
      "Albania\n",
      "Greece\n",
      "Macedonia\n",
      "Serbia\n",
      "Montenegro\n",
      "Kosovo\n",
      "Andorra\n"
     ]
    }
   ],
   "source": [
    "# print names of all countries\n",
    "for child in document_tree.getroot():\n",
    "    print child.find('name').text"
   ]
  },
  {
   "cell_type": "code",
   "execution_count": 5,
   "metadata": {
    "collapsed": false
   },
   "outputs": [
    {
     "name": "stdout",
     "output_type": "stream",
     "text": [
      "* Albania: Tirana, Shkodër, Durrës, Vlorë, Elbasan, Korçë\n",
      "* Greece: Komotini, Kavala, Athina, Peiraias, Peristeri, Acharnes, Patra, Kozani, Kerkyra, Ioannina, Thessaloniki, Iraklio, Chania, Ermoupoli, Rhodes, Tripoli, Lamia, Chalkida, Larissa, Volos, Mytilini, Karyes\n",
      "* Macedonia: Skopje, Kumanovo\n",
      "* Serbia: Beograd, Novi Sad, Niš\n",
      "* Montenegro: Podgorica\n",
      "* Kosovo: Prishtine\n",
      "* Andorra: Andorra la Vella\n"
     ]
    }
   ],
   "source": [
    "# print names of all countries and their cities\n",
    "for element in document_tree.iterfind('country'):\n",
    "    print '* ' + element.find('name').text + ':',\n",
    "    capitals_string = ''\n",
    "    for subelement in element.getiterator('city'):\n",
    "        capitals_string += subelement.find('name').text + ', '\n",
    "    print capitals_string[:-2]"
   ]
  },
  {
   "cell_type": "markdown",
   "metadata": {},
   "source": [
    "****\n",
    "## XML exercise\n",
    "\n",
    "Using data in 'data/mondial_database.xml', the examples above, and refering to https://docs.python.org/2.7/library/xml.etree.elementtree.html, find\n",
    "\n",
    "1. 10 countries with the lowest infant mortality rates\n",
    "2. 10 cities with the largest population\n",
    "3. 10 ethnic groups with the largest overall populations (sum of best/latest estimates over all countries)\n",
    "4. name and country of a) longest river, b) largest lake and c) airport at highest elevation"
   ]
  },
  {
   "cell_type": "markdown",
   "metadata": {},
   "source": [
    "## 1. Ten Countries with the Lowest Infant Mortality Rates"
   ]
  },
  {
   "cell_type": "code",
   "execution_count": 6,
   "metadata": {
    "collapsed": false
   },
   "outputs": [
    {
     "data": {
      "text/html": [
       "<div>\n",
       "<table border=\"1\" class=\"dataframe\">\n",
       "  <thead>\n",
       "    <tr style=\"text-align: right;\">\n",
       "      <th></th>\n",
       "      <th>name</th>\n",
       "      <th>infant_mortality</th>\n",
       "    </tr>\n",
       "  </thead>\n",
       "  <tbody>\n",
       "    <tr>\n",
       "      <th>38</th>\n",
       "      <td>Monaco</td>\n",
       "      <td>1.81</td>\n",
       "    </tr>\n",
       "    <tr>\n",
       "      <th>98</th>\n",
       "      <td>Japan</td>\n",
       "      <td>2.13</td>\n",
       "    </tr>\n",
       "    <tr>\n",
       "      <th>36</th>\n",
       "      <td>Norway</td>\n",
       "      <td>2.48</td>\n",
       "    </tr>\n",
       "    <tr>\n",
       "      <th>117</th>\n",
       "      <td>Bermuda</td>\n",
       "      <td>2.48</td>\n",
       "    </tr>\n",
       "    <tr>\n",
       "      <th>106</th>\n",
       "      <td>Singapore</td>\n",
       "      <td>2.53</td>\n",
       "    </tr>\n",
       "    <tr>\n",
       "      <th>37</th>\n",
       "      <td>Sweden</td>\n",
       "      <td>2.60</td>\n",
       "    </tr>\n",
       "    <tr>\n",
       "      <th>10</th>\n",
       "      <td>Czech Republic</td>\n",
       "      <td>2.63</td>\n",
       "    </tr>\n",
       "    <tr>\n",
       "      <th>78</th>\n",
       "      <td>Hong Kong</td>\n",
       "      <td>2.73</td>\n",
       "    </tr>\n",
       "    <tr>\n",
       "      <th>79</th>\n",
       "      <td>Macao</td>\n",
       "      <td>3.13</td>\n",
       "    </tr>\n",
       "    <tr>\n",
       "      <th>44</th>\n",
       "      <td>Iceland</td>\n",
       "      <td>3.15</td>\n",
       "    </tr>\n",
       "  </tbody>\n",
       "</table>\n",
       "</div>"
      ],
      "text/plain": [
       "               name  infant_mortality\n",
       "38           Monaco              1.81\n",
       "98            Japan              2.13\n",
       "36           Norway              2.48\n",
       "117         Bermuda              2.48\n",
       "106       Singapore              2.53\n",
       "37           Sweden              2.60\n",
       "10   Czech Republic              2.63\n",
       "78        Hong Kong              2.73\n",
       "79            Macao              3.13\n",
       "44          Iceland              3.15"
      ]
     },
     "execution_count": 6,
     "metadata": {},
     "output_type": "execute_result"
    }
   ],
   "source": [
    "document = ET.parse( './data/mondial_database.xml' )\n",
    "\n",
    "def read_ethnic_groups(country_element):\n",
    "    ethnic_groups = []\n",
    "    for ethnic_group_elem in country_element.getiterator('ethnicgroup'):\n",
    "        percent = float(ethnic_group_elem.attrib['percentage']) / 100\n",
    "        name = ethnic_group_elem.text\n",
    "        ethnic_groups.append({'name' : name, 'percentage': percent})\n",
    "    return ethnic_groups\n",
    "\n",
    "# Reader converts XML to Python list\n",
    "def read_countries(document):\n",
    "    countries = []\n",
    "    for element in document.iterfind('country'):\n",
    "        name = element.find('name').text\n",
    "        pop_elem = element.find('population')\n",
    "        country_pop = int(pop_elem.text)\n",
    "        country_pop_year = pop_elem.attrib['year']        \n",
    "        ethnic_groups = read_ethnic_groups(element)\n",
    "        infant_mortality = element.find('infant_mortality')\n",
    "        cities = []\n",
    "        for city_element in element.getiterator('city'):\n",
    "            city = {'name' : city_element.find('name').text}\n",
    "            for population_element in city_element.getiterator('population'):\n",
    "                population_year = population_element.attrib['year']\n",
    "                population_num = int(population_element.text)\n",
    "                city['year']= population_year\n",
    "                city['population'] = population_num\n",
    "            cities.append(city)\n",
    "        countries.append({'name' : name,\n",
    "                          'population' : country_pop,\n",
    "                          'year' : country_pop_year,\n",
    "                          'cities' : cities,\n",
    "                          'infant_mortality' : infant_mortality.text if infant_mortality is not None else None,\n",
    "                          'ethnic_groups' : ethnic_groups\n",
    "                         })\n",
    "    return countries\n",
    "\n",
    "document = ET.parse( './data/mondial_database.xml' )\n",
    "countries = read_countries(document)\n",
    "\n",
    "import pandas as pd\n",
    "countries_df = pd.DataFrame(countries)\n",
    "countries_df.dropna(inplace=True)\n",
    "countries_df['infant_mortality'] = pd.to_numeric(countries_df['infant_mortality'])\n",
    "countries_df.nsmallest(10, 'infant_mortality')[['name', 'infant_mortality']]\n"
   ]
  },
  {
   "cell_type": "markdown",
   "metadata": {},
   "source": [
    "## 2. Ten Cities with the Largest Population"
   ]
  },
  {
   "cell_type": "code",
   "execution_count": 7,
   "metadata": {
    "collapsed": false
   },
   "outputs": [
    {
     "data": {
      "text/html": [
       "<div>\n",
       "<table border=\"1\" class=\"dataframe\">\n",
       "  <thead>\n",
       "    <tr style=\"text-align: right;\">\n",
       "      <th></th>\n",
       "      <th>city</th>\n",
       "      <th>population</th>\n",
       "    </tr>\n",
       "  </thead>\n",
       "  <tbody>\n",
       "    <tr>\n",
       "      <th>2380</th>\n",
       "      <td>Shanghai</td>\n",
       "      <td>22315474.0</td>\n",
       "    </tr>\n",
       "    <tr>\n",
       "      <th>1127</th>\n",
       "      <td>Istanbul</td>\n",
       "      <td>13710512.0</td>\n",
       "    </tr>\n",
       "    <tr>\n",
       "      <th>1742</th>\n",
       "      <td>Mumbai</td>\n",
       "      <td>12442373.0</td>\n",
       "    </tr>\n",
       "    <tr>\n",
       "      <th>1729</th>\n",
       "      <td>Moskva</td>\n",
       "      <td>11979529.0</td>\n",
       "    </tr>\n",
       "    <tr>\n",
       "      <th>283</th>\n",
       "      <td>Beijing</td>\n",
       "      <td>11716620.0</td>\n",
       "    </tr>\n",
       "    <tr>\n",
       "      <th>2535</th>\n",
       "      <td>São Paulo</td>\n",
       "      <td>11152344.0</td>\n",
       "    </tr>\n",
       "    <tr>\n",
       "      <th>2631</th>\n",
       "      <td>Tianjin</td>\n",
       "      <td>11090314.0</td>\n",
       "    </tr>\n",
       "    <tr>\n",
       "      <th>941</th>\n",
       "      <td>Guangzhou</td>\n",
       "      <td>11071424.0</td>\n",
       "    </tr>\n",
       "    <tr>\n",
       "      <th>686</th>\n",
       "      <td>Delhi</td>\n",
       "      <td>11034555.0</td>\n",
       "    </tr>\n",
       "    <tr>\n",
       "      <th>2393</th>\n",
       "      <td>Shenzhen</td>\n",
       "      <td>10358381.0</td>\n",
       "    </tr>\n",
       "  </tbody>\n",
       "</table>\n",
       "</div>"
      ],
      "text/plain": [
       "           city  population\n",
       "2380   Shanghai  22315474.0\n",
       "1127   Istanbul  13710512.0\n",
       "1742     Mumbai  12442373.0\n",
       "1729     Moskva  11979529.0\n",
       "283     Beijing  11716620.0\n",
       "2535  São Paulo  11152344.0\n",
       "2631    Tianjin  11090314.0\n",
       "941   Guangzhou  11071424.0\n",
       "686       Delhi  11034555.0\n",
       "2393   Shenzhen  10358381.0"
      ]
     },
     "execution_count": 7,
     "metadata": {},
     "output_type": "execute_result"
    }
   ],
   "source": [
    "from pandas.io.json import json_normalize\n",
    "\n",
    "df = pd.DataFrame()\n",
    "for country in countries:\n",
    "    city_df = json_normalize(country, 'cities') # Normalize JSON\n",
    "    city_df['country'] = country['name']\n",
    "    df = df.append(city_df)\n",
    "\n",
    "# Drop rows with missing values\n",
    "df = df.dropna(axis=0)\n",
    "\n",
    "# Use the maximum value of the census count for each city as the\n",
    "# basis for comparison, since some of the values for population are missing.\n",
    "# This assumes a positive trend in population, which should be true for most large cities.\n",
    "# We could also use interpolation to replace the missing values (see section below).\n",
    "max_populations_by_city = df.groupby('name')['population'].max()\n",
    "\n",
    "cities = max_populations_by_city.index.values\n",
    "population = max_populations_by_city.values\n",
    "population\n",
    "cities_df = pd.DataFrame({'city' : cities, \n",
    "                          'population' : population})\n",
    "cities_df.sort_values(by='population', \n",
    "                      ascending=False)[:10]\n"
   ]
  },
  {
   "cell_type": "markdown",
   "metadata": {},
   "source": [
    "## Top 10 Cities by Population: With Interpolation of missing values\n",
    "\n",
    "The results are the same whether we use interpolation or use the maximum population for each city:"
   ]
  },
  {
   "cell_type": "code",
   "execution_count": 8,
   "metadata": {
    "collapsed": false
   },
   "outputs": [
    {
     "data": {
      "text/html": [
       "<div>\n",
       "<table border=\"1\" class=\"dataframe\">\n",
       "  <thead>\n",
       "    <tr style=\"text-align: right;\">\n",
       "      <th></th>\n",
       "      <th></th>\n",
       "      <th>country</th>\n",
       "      <th>population</th>\n",
       "    </tr>\n",
       "    <tr>\n",
       "      <th>name</th>\n",
       "      <th>year</th>\n",
       "      <th></th>\n",
       "      <th></th>\n",
       "    </tr>\n",
       "  </thead>\n",
       "  <tbody>\n",
       "    <tr>\n",
       "      <th>Shanghai</th>\n",
       "      <th>2010</th>\n",
       "      <td>China</td>\n",
       "      <td>22315474.0</td>\n",
       "    </tr>\n",
       "    <tr>\n",
       "      <th>Istanbul</th>\n",
       "      <th>2012</th>\n",
       "      <td>Turkey</td>\n",
       "      <td>13710512.0</td>\n",
       "    </tr>\n",
       "    <tr>\n",
       "      <th>Mumbai</th>\n",
       "      <th>2011</th>\n",
       "      <td>India</td>\n",
       "      <td>12442373.0</td>\n",
       "    </tr>\n",
       "    <tr>\n",
       "      <th>Moskva</th>\n",
       "      <th>2013</th>\n",
       "      <td>Russia</td>\n",
       "      <td>11979529.0</td>\n",
       "    </tr>\n",
       "    <tr>\n",
       "      <th>Beijing</th>\n",
       "      <th>2010</th>\n",
       "      <td>China</td>\n",
       "      <td>11716620.0</td>\n",
       "    </tr>\n",
       "    <tr>\n",
       "      <th>São Paulo</th>\n",
       "      <th>2010</th>\n",
       "      <td>Brazil</td>\n",
       "      <td>11152344.0</td>\n",
       "    </tr>\n",
       "    <tr>\n",
       "      <th>Tianjin</th>\n",
       "      <th>2010</th>\n",
       "      <td>China</td>\n",
       "      <td>11090314.0</td>\n",
       "    </tr>\n",
       "    <tr>\n",
       "      <th>Guangzhou</th>\n",
       "      <th>2010</th>\n",
       "      <td>China</td>\n",
       "      <td>11071424.0</td>\n",
       "    </tr>\n",
       "    <tr>\n",
       "      <th>Delhi</th>\n",
       "      <th>2011</th>\n",
       "      <td>India</td>\n",
       "      <td>11034555.0</td>\n",
       "    </tr>\n",
       "    <tr>\n",
       "      <th>Shenzhen</th>\n",
       "      <th>2010</th>\n",
       "      <td>China</td>\n",
       "      <td>10358381.0</td>\n",
       "    </tr>\n",
       "  </tbody>\n",
       "</table>\n",
       "</div>"
      ],
      "text/plain": [
       "               country  population\n",
       "name      year                    \n",
       "Shanghai  2010   China  22315474.0\n",
       "Istanbul  2012  Turkey  13710512.0\n",
       "Mumbai    2011   India  12442373.0\n",
       "Moskva    2013  Russia  11979529.0\n",
       "Beijing   2010   China  11716620.0\n",
       "São Paulo 2010  Brazil  11152344.0\n",
       "Tianjin   2010   China  11090314.0\n",
       "Guangzhou 2010   China  11071424.0\n",
       "Delhi     2011   India  11034555.0\n",
       "Shenzhen  2010   China  10358381.0"
      ]
     },
     "execution_count": 8,
     "metadata": {},
     "output_type": "execute_result"
    }
   ],
   "source": [
    "df = pd.DataFrame()\n",
    "for country in countries:\n",
    "    city_df = json_normalize(country, 'cities') # Normalize JSON\n",
    "    city_df['country'] = country['name']\n",
    "    df = df.append(city_df)\n",
    "\n",
    "# Remove rows with missing years\n",
    "df = df.dropna(subset=['year'])\n",
    "df = df.set_index(['name', 'year'])\n",
    "\n",
    "df=df.interpolate(method='linear')\n",
    "df.sort_values(by='population', \n",
    "               ascending=False)[:10]"
   ]
  },
  {
   "cell_type": "markdown",
   "metadata": {},
   "source": [
    "## 3. Top 10 Ethnic Groups\n"
   ]
  },
  {
   "cell_type": "code",
   "execution_count": 9,
   "metadata": {
    "collapsed": false
   },
   "outputs": [
    {
     "data": {
      "text/html": [
       "<div>\n",
       "<table border=\"1\" class=\"dataframe\">\n",
       "  <thead>\n",
       "    <tr style=\"text-align: right;\">\n",
       "      <th></th>\n",
       "      <th>ethnic_est_pop</th>\n",
       "    </tr>\n",
       "    <tr>\n",
       "      <th>name</th>\n",
       "      <th></th>\n",
       "    </tr>\n",
       "  </thead>\n",
       "  <tbody>\n",
       "    <tr>\n",
       "      <th>Han Chinese</th>\n",
       "      <td>4.975551e+08</td>\n",
       "    </tr>\n",
       "    <tr>\n",
       "      <th>European</th>\n",
       "      <td>1.928658e+08</td>\n",
       "    </tr>\n",
       "    <tr>\n",
       "      <th>Indo-Aryan</th>\n",
       "      <td>1.716454e+08</td>\n",
       "    </tr>\n",
       "    <tr>\n",
       "      <th>Russian</th>\n",
       "      <td>9.275844e+07</td>\n",
       "    </tr>\n",
       "    <tr>\n",
       "      <th>African</th>\n",
       "      <td>8.632937e+07</td>\n",
       "    </tr>\n",
       "    <tr>\n",
       "      <th>Japanese</th>\n",
       "      <td>8.170627e+07</td>\n",
       "    </tr>\n",
       "    <tr>\n",
       "      <th>German</th>\n",
       "      <td>6.623219e+07</td>\n",
       "    </tr>\n",
       "    <tr>\n",
       "      <th>Dravidian</th>\n",
       "      <td>5.959908e+07</td>\n",
       "    </tr>\n",
       "    <tr>\n",
       "      <th>English</th>\n",
       "      <td>4.231499e+07</td>\n",
       "    </tr>\n",
       "    <tr>\n",
       "      <th>Mestizo</th>\n",
       "      <td>3.554233e+07</td>\n",
       "    </tr>\n",
       "  </tbody>\n",
       "</table>\n",
       "</div>"
      ],
      "text/plain": [
       "             ethnic_est_pop\n",
       "name                       \n",
       "Han Chinese    4.975551e+08\n",
       "European       1.928658e+08\n",
       "Indo-Aryan     1.716454e+08\n",
       "Russian        9.275844e+07\n",
       "African        8.632937e+07\n",
       "Japanese       8.170627e+07\n",
       "German         6.623219e+07\n",
       "Dravidian      5.959908e+07\n",
       "English        4.231499e+07\n",
       "Mestizo        3.554233e+07"
      ]
     },
     "execution_count": 9,
     "metadata": {},
     "output_type": "execute_result"
    }
   ],
   "source": [
    "df = pd.DataFrame()\n",
    "for country in countries:\n",
    "    eg_df = json_normalize(country, 'ethnic_groups') # Normalize JSON\n",
    "    eg_df['country'] = country['name']\n",
    "    eg_df['population'] = country['population']\n",
    "    eg_df['year'] = country['year']\n",
    "    df = df.append(eg_df)\n",
    "\n",
    "# Remove missing years\n",
    "df = df.dropna(subset=['year'])\n",
    "\n",
    "def get_top_10_ethnic_groups(df):\n",
    "    df['ethnic_est_pop'] = df['population'] * df['percentage']\n",
    "    pop_counts = df.groupby('name').sum()\n",
    "    pop_counts = pop_counts.drop(['population', 'percentage'], axis=1)\n",
    "    return pop_counts.sort_values(by='ethnic_est_pop', ascending=False)[:10]\n",
    "\n",
    "get_top_10_ethnic_groups(df)"
   ]
  },
  {
   "cell_type": "markdown",
   "metadata": {},
   "source": [
    "## 4.a. Longest River"
   ]
  },
  {
   "cell_type": "code",
   "execution_count": 78,
   "metadata": {
    "collapsed": false
   },
   "outputs": [
    {
     "data": {
      "text/html": [
       "<div>\n",
       "<table border=\"1\" class=\"dataframe\">\n",
       "  <thead>\n",
       "    <tr style=\"text-align: right;\">\n",
       "      <th></th>\n",
       "      <th>country</th>\n",
       "      <th>length</th>\n",
       "      <th>river</th>\n",
       "    </tr>\n",
       "  </thead>\n",
       "  <tbody>\n",
       "    <tr>\n",
       "      <th>174</th>\n",
       "      <td>CO BR PE</td>\n",
       "      <td>6448.0</td>\n",
       "      <td>river-Amazonas</td>\n",
       "    </tr>\n",
       "  </tbody>\n",
       "</table>\n",
       "</div>"
      ],
      "text/plain": [
       "      country  length           river\n",
       "174  CO BR PE  6448.0  river-Amazonas"
      ]
     },
     "execution_count": 78,
     "metadata": {},
     "output_type": "execute_result"
    }
   ],
   "source": [
    "# Country names\n",
    "def find_country_name(document_root, country_code):\n",
    "    country = document_root.find(\"country[@car_code='\" + country_code + \"']\")\n",
    "    return country.find('name').text\n",
    "\n",
    "def get_country_names(country_codes):\n",
    "    return [find_country_name(document, country_code) for country_code in country_codes]\n",
    "\n",
    "def read_rivers(document_root):\n",
    "    rivers = []\n",
    "    for river_elem in document_root.iterfind('river'):        \n",
    "        river = river_elem.attrib['id']\n",
    "        length = river_elem.find('length')\n",
    "        country = river_elem.attrib['country']\n",
    "        river = {'river' : river, \n",
    "                 'length' : float(length.text) if length is not None else None,\n",
    "                 'country' : country}\n",
    "        rivers.append(river)\n",
    "    return rivers\n",
    "\n",
    "\n",
    "document = ET.parse( './data/mondial_database.xml' )\n",
    "rivers = read_rivers(document)\n",
    "\n",
    "df = pd.DataFrame(rivers)\n",
    "df = df.sort_values(by='length', ascending=False)\n",
    "df[:1]"
   ]
  },
  {
   "cell_type": "code",
   "execution_count": 79,
   "metadata": {
    "collapsed": false
   },
   "outputs": [
    {
     "data": {
      "text/plain": [
       "['Colombia', 'Brazil', 'Peru']"
      ]
     },
     "execution_count": 79,
     "metadata": {},
     "output_type": "execute_result"
    }
   ],
   "source": [
    "get_country_names(df[:1]['country'].values[0].split())"
   ]
  },
  {
   "cell_type": "markdown",
   "metadata": {},
   "source": [
    "## 4b. Lake with the Largest Area"
   ]
  },
  {
   "cell_type": "code",
   "execution_count": 80,
   "metadata": {
    "collapsed": false
   },
   "outputs": [
    {
     "data": {
      "text/html": [
       "<div>\n",
       "<table border=\"1\" class=\"dataframe\">\n",
       "  <thead>\n",
       "    <tr style=\"text-align: right;\">\n",
       "      <th></th>\n",
       "      <th>area</th>\n",
       "      <th>country</th>\n",
       "      <th>lake</th>\n",
       "    </tr>\n",
       "  </thead>\n",
       "  <tbody>\n",
       "    <tr>\n",
       "      <th>54</th>\n",
       "      <td>386400.0</td>\n",
       "      <td>R AZ KAZ IR TM</td>\n",
       "      <td>lake-KaspischesMeer</td>\n",
       "    </tr>\n",
       "  </tbody>\n",
       "</table>\n",
       "</div>"
      ],
      "text/plain": [
       "        area         country                 lake\n",
       "54  386400.0  R AZ KAZ IR TM  lake-KaspischesMeer"
      ]
     },
     "execution_count": 80,
     "metadata": {},
     "output_type": "execute_result"
    }
   ],
   "source": [
    "document = ET.parse( './data/mondial_database.xml' )\n",
    "\n",
    "def read_lakes(document_root):\n",
    "    lakes = []\n",
    "    for lake_elem in document.iter('lake'):\n",
    "        lake_id = lake_elem.attrib['id'] \n",
    "        area = lake_elem.find('area')\n",
    "        country = lake_elem.attrib['country']\n",
    "        lake = {'lake' : lake_id,\n",
    "                'area' : float(area.text) if area is not None else None,\n",
    "                'country' : country}\n",
    "        lakes.append(lake)\n",
    "    return lakes\n",
    "\n",
    "lakes = read_lakes(document)\n",
    "df = pd.DataFrame(lakes)\n",
    "df = df.sort_values(by='area', ascending=False)\n",
    "df[:1]    \n",
    "    "
   ]
  },
  {
   "cell_type": "code",
   "execution_count": 81,
   "metadata": {
    "collapsed": false
   },
   "outputs": [
    {
     "data": {
      "text/plain": [
       "['Russia', 'Azerbaijan', 'Kazakhstan', 'Iran', 'Turkmenistan']"
      ]
     },
     "execution_count": 81,
     "metadata": {},
     "output_type": "execute_result"
    }
   ],
   "source": [
    "get_country_names(df[:1]['country'].values[0].split())"
   ]
  },
  {
   "cell_type": "markdown",
   "metadata": {
    "collapsed": true
   },
   "source": [
    "## 4c. Airport at Highest Elevation"
   ]
  },
  {
   "cell_type": "code",
   "execution_count": 82,
   "metadata": {
    "collapsed": false
   },
   "outputs": [
    {
     "data": {
      "text/html": [
       "<div>\n",
       "<table border=\"1\" class=\"dataframe\">\n",
       "  <thead>\n",
       "    <tr style=\"text-align: right;\">\n",
       "      <th></th>\n",
       "      <th>airport</th>\n",
       "      <th>country</th>\n",
       "      <th>elevation</th>\n",
       "    </tr>\n",
       "  </thead>\n",
       "  <tbody>\n",
       "    <tr>\n",
       "      <th>80</th>\n",
       "      <td>LPB</td>\n",
       "      <td>BOL</td>\n",
       "      <td>4063.0</td>\n",
       "    </tr>\n",
       "  </tbody>\n",
       "</table>\n",
       "</div>"
      ],
      "text/plain": [
       "   airport country  elevation\n",
       "80     LPB     BOL     4063.0"
      ]
     },
     "execution_count": 82,
     "metadata": {},
     "output_type": "execute_result"
    }
   ],
   "source": [
    "def read_airports(document_root):\n",
    "    airports = []\n",
    "    for airport_elem in document.iter('airport'):\n",
    "        airport_code = airport_elem.attrib['iatacode']\n",
    "        elev = airport_elem.find('elevation')\n",
    "        country = airport_elem.attrib['country']\n",
    "        elevation = float(elev.text) if elev.text is not None else None\n",
    "        airport = {'airport' : airport_code,\n",
    "                   'elevation' : elevation,\n",
    "                   'country' : country}\n",
    "        airports.append(airport)\n",
    "    return airports\n",
    "\n",
    "airports = read_airports(document)\n",
    "df = pd.DataFrame(airports)\n",
    "df = df.sort_values(by='elevation', ascending=False)\n",
    "df[:1]"
   ]
  },
  {
   "cell_type": "code",
   "execution_count": 83,
   "metadata": {
    "collapsed": false
   },
   "outputs": [
    {
     "data": {
      "text/plain": [
       "['Bolivia']"
      ]
     },
     "execution_count": 83,
     "metadata": {},
     "output_type": "execute_result"
    }
   ],
   "source": [
    "get_country_names(df[:1]['country'].values[0].split())"
   ]
  }
 ],
 "metadata": {
  "kernelspec": {
   "display_name": "Python 2",
   "language": "python",
   "name": "python2"
  },
  "language_info": {
   "codemirror_mode": {
    "name": "ipython",
    "version": 2
   },
   "file_extension": ".py",
   "mimetype": "text/x-python",
   "name": "python",
   "nbconvert_exporter": "python",
   "pygments_lexer": "ipython2",
   "version": "2.7.12"
  }
 },
 "nbformat": 4,
 "nbformat_minor": 0
}
